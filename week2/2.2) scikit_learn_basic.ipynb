{
 "cells": [
  {
   "cell_type": "markdown",
   "metadata": {},
   "source": [
    "## 2. Scikit learn basic"
   ]
  },
  {
   "cell_type": "markdown",
   "metadata": {},
   "source": [
    "## 2.1 What we are going to learn\n",
    "+ how to express data in scikit-learn\n",
    "+ pratice with the iris dataset\n",
    "+ drawing the scatter plot (matplotlib.pyplot)\n",
    "+ how to use scikit-learn estimator object"
   ]
  },
  {
   "cell_type": "markdown",
   "metadata": {},
   "source": [
    "## 2.2 how the data are expressed in scikit-learn\n",
    "+ **2D array** of size **[n_samples * n_features]**\n",
    "+ **n_samples**\n",
    "    + the number of samples that are going to be processed(e.g. classify)\n",
    "    + can be a picture, a video, a sound, or CSV file etc.\n",
    "+ **n_features**\n",
    "    + The number of features that can be used to describe each item(sample)\n",
    "    + The number of features must be fixed in advance\n",
    "\n"
   ]
  },
  {
   "cell_type": "markdown",
   "metadata": {},
   "source": [
    "## 2.3 Practice with the iris dataset: Load the Iris Data\n",
    "+ The data consists of three different species of irises(Setosa, Versicolor, Virginica)\n",
    "+ Three different species and fixed number of features for each sample\n",
    "+ Features in the Iris dataset:\n",
    "    + speal length,  sepal width, petal length, petal width\n",
    "+ Classes to predict\n",
    "    + Setosa, Versicolour, Virginica"
   ]
  },
  {
   "cell_type": "code",
   "execution_count": 2,
   "metadata": {},
   "outputs": [],
   "source": [
    "from sklearn.datasets import load_iris\n",
    "import numpy as np"
   ]
  },
  {
   "cell_type": "code",
   "execution_count": 3,
   "metadata": {},
   "outputs": [],
   "source": [
    "# load the iris CSV file embedded in scikit-learn\n",
    "iris = load_iris() "
   ]
  },
  {
   "cell_type": "markdown",
   "metadata": {},
   "source": [
    "#### data attribute: .data.shape"
   ]
  },
  {
   "cell_type": "code",
   "execution_count": 4,
   "metadata": {},
   "outputs": [
    {
     "name": "stdout",
     "output_type": "stream",
     "text": [
      "iris.data.shape :  (150, 4)\n",
      "n_samples :  150\n",
      "n_features :  4\n",
      "iris.data[0] :  [5.1 3.5 1.4 0.2]\n"
     ]
    }
   ],
   "source": [
    "#The features of each sample flower are stored in the data attribute of the dataset\n",
    "\n",
    "print(\"iris.data.shape : \",iris.data.shape)\n",
    "\n",
    "n_samples, n_features = iris.data.shape\n",
    "print(\"n_samples : \", n_samples)\n",
    "\n",
    "print(\"n_features : \", n_features)\n",
    "\n",
    "print(\"iris.data[0] : \", iris.data[0])"
   ]
  },
  {
   "cell_type": "markdown",
   "metadata": {},
   "source": [
    "#### target attribute"
   ]
  },
  {
   "cell_type": "code",
   "execution_count": 5,
   "metadata": {},
   "outputs": [
    {
     "name": "stdout",
     "output_type": "stream",
     "text": [
      "\n",
      "iris.target.shape : \n",
      " (150,)\n",
      "\n",
      "iris.target : \n",
      " [0 0 0 0 0 0 0 0 0 0 0 0 0 0 0 0 0 0 0 0 0 0 0 0 0 0 0 0 0 0 0 0 0 0 0 0 0\n",
      " 0 0 0 0 0 0 0 0 0 0 0 0 0 1 1 1 1 1 1 1 1 1 1 1 1 1 1 1 1 1 1 1 1 1 1 1 1\n",
      " 1 1 1 1 1 1 1 1 1 1 1 1 1 1 1 1 1 1 1 1 1 1 1 1 1 1 2 2 2 2 2 2 2 2 2 2 2\n",
      " 2 2 2 2 2 2 2 2 2 2 2 2 2 2 2 2 2 2 2 2 2 2 2 2 2 2 2 2 2 2 2 2 2 2 2 2 2\n",
      " 2 2]\n"
     ]
    }
   ],
   "source": [
    "#The information about the class of each sample is stored in the target attribute of the dataset\n",
    "\n",
    "print(\"\\niris.target.shape : \\n\", iris.target.shape)\n",
    "print(\"\\niris.target : \\n\", iris.target)"
   ]
  },
  {
   "cell_type": "code",
   "execution_count": 6,
   "metadata": {},
   "outputs": [
    {
     "name": "stdout",
     "output_type": "stream",
     "text": [
      "iris.target_names :  ['setosa' 'versicolor' 'virginica']\n"
     ]
    }
   ],
   "source": [
    "# if you wanted to know the exact name of classes, use iris.target_names\n",
    "# iris.target에서 0, 1, 2로 표현된 class의 이름을 알고싶으면 iris.target_names사용\n",
    "\n",
    "print(\"iris.target_names : \", iris.target_names)"
   ]
  },
  {
   "cell_type": "markdown",
   "metadata": {},
   "source": [
    "## 2.4 Scatter plot (matplotlib.pyplot)"
   ]
  },
  {
   "cell_type": "markdown",
   "metadata": {},
   "source": [
    "#### scatter plot for Iris data\n",
    "+ There are four features in the above iris dataset -> four-dimensional\n",
    "+ Choose two features among them, and draw the **2D scatter plot**"
   ]
  },
  {
   "cell_type": "code",
   "execution_count": 7,
   "metadata": {},
   "outputs": [],
   "source": [
    "from matplotlib import pyplot as plt"
   ]
  },
  {
   "cell_type": "markdown",
   "metadata": {},
   "source": [
    "+ you can modify the code right below(change the indices) and check the difference of result."
   ]
  },
  {
   "cell_type": "code",
   "execution_count": 8,
   "metadata": {},
   "outputs": [],
   "source": [
    "# The indices of the features that we are plotting\n",
    "# change this and check the difference\n",
    "x_index = 2\n",
    "y_index = 3"
   ]
  },
  {
   "cell_type": "code",
   "execution_count": 9,
   "metadata": {},
   "outputs": [
    {
     "data": {
      "image/png": "[encoded data removed]",
      "text/plain": [
       "<Figure size 360x288 with 2 Axes>"
      ]
     },
     "metadata": {
      "needs_background": "light"
     },
     "output_type": "display_data"
    }
   ],
   "source": [
    "# this formatter will label the colorbar with the correct target names\n",
    "formatter = plt.FuncFormatter(lambda i, *args: iris.target_names[int(i)])\n",
    "\n",
    "plt.figure(figsize=(5, 4))\n",
    "plt.scatter(iris.data[:, x_index], iris.data[:, y_index], c=iris.target)\n",
    "\n",
    "# for the colorbar\n",
    "plt.colorbar(ticks=[0, 1, 2], format=formatter)\n",
    "\n",
    "plt.xlabel(iris.feature_names[x_index])\n",
    "plt.ylabel(iris.feature_names[y_index])\n",
    "\n",
    "plt.show()"
   ]
  },
  {
   "cell_type": "markdown",
   "metadata": {},
   "source": [
    "### 2.5 scikit-learn \"estimator\" object\n",
    "+ Every algorithm in scikit-learn can dealt with via an **\"Estimator\"** object\n",
    "+ For the example practice, we are goint to see the linear regression\n",
    "+ In Scikit-learn, Linear regression is **sklearn.linear_model.LinearRegression**\n",
    "    + note. scikit-learn is imported as sklearn"
   ]
  },
  {
   "cell_type": "code",
   "execution_count": 36,
   "metadata": {},
   "outputs": [],
   "source": [
    "from sklearn.linear_model import LinearRegression"
   ]
  },
  {
   "cell_type": "markdown",
   "metadata": {},
   "source": [
    "#### parameters\n",
    "+ All the parameters of an estimator can be set when it is instantiated"
   ]
  },
  {
   "cell_type": "code",
   "execution_count": 37,
   "metadata": {},
   "outputs": [
    {
     "name": "stdout",
     "output_type": "stream",
     "text": [
      "True\n",
      "LinearRegression(normalize=True)\n"
     ]
    }
   ],
   "source": [
    "model = LinearRegression(normalize=True)\n",
    "print(model.normalize)\n",
    "print(model)"
   ]
  },
  {
   "cell_type": "markdown",
   "metadata": {},
   "source": [
    "#### create simple data"
   ]
  },
  {
   "cell_type": "code",
   "execution_count": 38,
   "metadata": {},
   "outputs": [
    {
     "data": {
      "text/plain": [
       "array([[0],\n",
       "       [1],\n",
       "       [2]])"
      ]
     },
     "execution_count": 38,
     "metadata": {},
     "output_type": "execute_result"
    }
   ],
   "source": [
    "import numpy as np\n",
    "x = np.array([0, 1, 2])\n",
    "y = np.array([0, 1, 2])\n",
    "\n",
    "X = x[:, np.newaxis] # The input data for sklearn is 2D: (samples == 3 x features == 1)\n",
    "X"
   ]
  },
  {
   "cell_type": "markdown",
   "metadata": {},
   "source": [
    "#### fit() and predict()"
   ]
  },
  {
   "cell_type": "code",
   "execution_count": 39,
   "metadata": {},
   "outputs": [
    {
     "data": {
      "text/plain": [
       "LinearRegression(normalize=True)"
      ]
     },
     "execution_count": 39,
     "metadata": {},
     "output_type": "execute_result"
    }
   ],
   "source": [
    "model.fit(X, y)"
   ]
  },
  {
   "cell_type": "markdown",
   "metadata": {},
   "source": [
    "+ LinearRegression 클래스는 fit() 메소드로 X, y 배열을 입력받아 Coefficients 를 coef_속성에 저장한다."
   ]
  },
  {
   "cell_type": "markdown",
   "metadata": {},
   "source": [
    "#### estimated parameters\n",
    "+ When data is fitted with an estimator, parameters are estimated from the data at hand. All the estimated parameters are attributes of the estimator object ending by an underscore:"
   ]
  },
  {
   "cell_type": "code",
   "execution_count": 40,
   "metadata": {},
   "outputs": [
    {
     "data": {
      "text/plain": [
       "array([1.])"
      ]
     },
     "execution_count": 40,
     "metadata": {},
     "output_type": "execute_result"
    }
   ],
   "source": [
    "model.coef_"
   ]
  }
 ],
 "metadata": {
  "kernelspec": {
   "display_name": "Python 3",
   "language": "python",
   "name": "python3"
  },
  "language_info": {
   "codemirror_mode": {
    "name": "ipython",
    "version": 3
   },
   "file_extension": ".py",
   "mimetype": "text/x-python",
   "name": "python",
   "nbconvert_exporter": "python",
   "pygments_lexer": "ipython3",
   "version": "3.8.3"
  }
 },
 "nbformat": 4,
 "nbformat_minor": 4
}
