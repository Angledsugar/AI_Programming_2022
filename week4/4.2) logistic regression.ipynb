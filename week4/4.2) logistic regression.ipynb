{
 "cells": [
  {
   "cell_type": "markdown",
   "metadata": {},
   "source": [
    "## Logistic Regression"
   ]
  },
  {
   "cell_type": "code",
   "execution_count": null,
   "metadata": {},
   "outputs": [],
   "source": []
  },
  {
   "cell_type": "markdown",
   "metadata": {},
   "source": [
    "## Sigmoid function"
   ]
  },
  {
   "cell_type": "markdown",
   "metadata": {},
   "source": [
    "+ $\\sigma(z)= \\frac{1}{1+exp(-z)}$ $\\Longrightarrow$ $\\sigma(w^Tx) = \\frac{1}{1+exp^(-w^Tx)}$\n",
    "+ $\\sigma(z)$ is called sigmoid function or logistic function\n",
    "+ always generates a value between 0 and 1"
   ]
  },
  {
   "cell_type": "code",
   "execution_count": 11,
   "metadata": {},
   "outputs": [
    {
     "data": {
      "image/png": "[encoded data removed]",
      "text/plain": [
       "<Figure size 576x144 with 1 Axes>"
      ]
     },
     "metadata": {
      "needs_background": "light"
     },
     "output_type": "display_data"
    }
   ],
   "source": [
    "import numpy as np\n",
    "import matplotlib.pyplot as plt\n",
    "%matplotlib inline\n",
    "\n",
    "z = np.linspace(-4,4,100)\n",
    "s = 1/(1 + np.exp(-z))\n",
    "\n",
    "plt.figure(figsize=(8,2))\n",
    "plt.plot(z, s)\n",
    "plt.xlim([-4, 4])\n",
    "plt.axis('equal')\n",
    "plt.grid(alpha = 0.3)\n",
    "plt.show()"
   ]
  },
  {
   "cell_type": "markdown",
   "metadata": {},
   "source": [
    "**benefit of the sigmoid function**\n",
    "1. Monotonic\n",
    "2. Continuous and differentiable $\\rightarrow$ gradient descent\n",
    "3. Probability $\\rightarrow$ can be considered as probability"
   ]
  },
  {
   "cell_type": "markdown",
   "metadata": {},
   "source": [
    "+ Probability that the label is $+1$ <br>\n",
    "$P(y=+1 | x;w) = \\frac{1}{1+exp(-w^Tx)}$ $ = f(x;w)$\n",
    "+ Probability that the label is $0$ <br>\n",
    "$P(y=0 | x;w) = 1-P(y=+1 | x,w)$ $=1-f(x;w)$"
   ]
  },
  {
   "cell_type": "markdown",
   "metadata": {},
   "source": [
    "Then,<br>\n",
    "$P(y|x;w) = (f(x;w))^y(1-f(x;w))^{1-y}$ <br>"
   ]
  },
  {
   "cell_type": "markdown",
   "metadata": {},
   "source": [
    "For $D = \\{x_i, y_i\\}^{N}_{i=1}$ <br><br>\n",
    "the likelihood function would be <br><br>\n",
    "$L_1(w)=$$\\Pi^{N}_{i=1}P(y_{i}|x_{i};w)$$ = \\Pi^{N}_{i=1}$$(f(x_i;w))^{y_i}$$(1-f(x_i;w))^{1-y_i}$"
   ]
  },
  {
   "cell_type": "markdown",
   "metadata": {},
   "source": [
    "**log likelihood** <br>\n",
    "$logL_1(w)$ $=\\Sigma^{N}_{i=1}y_ilogf(x_i) + (1-y_i)log(1-f(x_i))$ <br><br>\n",
    "take -(minus) <br>\n",
    "we could get the **cross-entropy** <br>\n",
    "$L_2(w) = $$\\Sigma^{N}_{i=1}-y_ilogf(x_i) - (1-y_i)log(1-f(x_i))$"
   ]
  },
  {
   "cell_type": "markdown",
   "metadata": {},
   "source": [
    "+ The logistic regression problem is (convex) optimization problem<br>\n",
    "$w^* = \\underset{w}{\\operatorname{argmax}}L_2(w)$"
   ]
  },
  {
   "cell_type": "markdown",
   "metadata": {},
   "source": [
    "## Gradient Descent"
   ]
  },
  {
   "cell_type": "code",
   "execution_count": null,
   "metadata": {},
   "outputs": [],
   "source": []
  },
  {
   "cell_type": "markdown",
   "metadata": {},
   "source": [
    "### Scikit learn"
   ]
  },
  {
   "cell_type": "code",
   "execution_count": 2,
   "metadata": {},
   "outputs": [
    {
     "data": {
      "text/plain": [
       "(100, 3)"
      ]
     },
     "execution_count": 2,
     "metadata": {},
     "output_type": "execute_result"
    }
   ],
   "source": [
    "## data generation\n",
    "\n",
    "datanum1 = 50\n",
    "datanum2 = 50\n",
    "mean1 = np.array([0,0])\n",
    "mean2 = np.array([1, -.5])\n",
    "cov1 = np.array([[.1, .02],[.02, .1]])\n",
    "cov2 = np.array([[.1, .02],[.02, .1]])\n",
    "data1 = np.random.multivariate_normal(mean1, cov1, datanum1)\n",
    "data2 = np.random.multivariate_normal(mean2, cov2, datanum2)\n",
    "y = np.empty([datanum1+datanum2,1])\n",
    "y[:datanum1] = 1\n",
    "y[datanum1:datanum1+datanum2] = 0\n",
    "\n",
    "dataset = np.vstack((data1, data2))\n",
    "\n",
    "X = np.hstack([np.ones([datanum1+datanum2, 1]), dataset])\n",
    "X.shape"
   ]
  },
  {
   "cell_type": "code",
   "execution_count": 3,
   "metadata": {},
   "outputs": [
    {
     "data": {
      "text/plain": [
       "(-0.9155487847197246,\n",
       " 1.5946659866551554,\n",
       " -1.5232354386048639,\n",
       " 0.8582996765883183)"
      ]
     },
     "execution_count": 3,
     "metadata": {},
     "output_type": "execute_result"
    },
    {
     "data": {
      "image/png": "[encoded data removed]",
      "text/plain": [
       "<Figure size 432x360 with 1 Axes>"
      ]
     },
     "metadata": {
      "needs_background": "light"
     },
     "output_type": "display_data"
    }
   ],
   "source": [
    "# draw data\n",
    "fig, ax = plt.subplots(figsize=(6,5))\n",
    "ax.scatter(data1[:,0], data1[:,1], color='red', label='class 1', alpha =.3)\n",
    "ax.scatter(data2[:,0], data2[:,1], color='blue', marker='^', label='class 2', alpha =.3)\n",
    "\n",
    "ax.set_title('Plotted data', fontsize = 15)\n",
    "ax.legend()\n",
    "plt.xlabel(r'$x_1$', fontsize = 15)\n",
    "plt.ylabel(r'$x_2$', fontsize = 15)\n",
    "plt.legend(loc = 1, fontsize = 12)\n",
    "[x1min, x1max, x2min, x2max] = ax.axis()\n",
    "ax.axis([x1min, x1max, x2min, x2max])\n",
    "#ax.grid()"
   ]
  },
  {
   "cell_type": "code",
   "execution_count": 4,
   "metadata": {},
   "outputs": [],
   "source": [
    "w = np.array([[-6], [2], [1]])\n",
    "w = np.asmatrix(w)\n",
    "X = np.asmatrix(X)"
   ]
  },
  {
   "cell_type": "code",
   "execution_count": 5,
   "metadata": {},
   "outputs": [
    {
     "data": {
      "text/plain": [
       "LogisticRegression()"
      ]
     },
     "execution_count": 5,
     "metadata": {},
     "output_type": "execute_result"
    }
   ],
   "source": [
    "X = X[:,1:3]\n",
    "\n",
    "from sklearn import linear_model\n",
    "\n",
    "clf = linear_model.LogisticRegression(solver='lbfgs')\n",
    "clf.fit(X,np.ravel(y))"
   ]
  },
  {
   "cell_type": "code",
   "execution_count": 6,
   "metadata": {},
   "outputs": [
    {
     "data": {
      "text/plain": [
       "array([[-3.59906523,  2.31797697]])"
      ]
     },
     "execution_count": 6,
     "metadata": {},
     "output_type": "execute_result"
    }
   ],
   "source": [
    "clf.coef_"
   ]
  },
  {
   "cell_type": "code",
   "execution_count": 7,
   "metadata": {},
   "outputs": [
    {
     "data": {
      "text/plain": [
       "array([2.495943])"
      ]
     },
     "execution_count": 7,
     "metadata": {},
     "output_type": "execute_result"
    }
   ],
   "source": [
    "clf.intercept_"
   ]
  },
  {
   "cell_type": "code",
   "execution_count": 8,
   "metadata": {},
   "outputs": [
    {
     "data": {
      "image/png": "[encoded data removed]",
      "text/plain": [
       "<Figure size 432x360 with 1 Axes>"
      ]
     },
     "metadata": {
      "needs_background": "light"
     },
     "output_type": "display_data"
    }
   ],
   "source": [
    "w0 = clf.intercept_[0]\n",
    "w1 = clf.coef_[0,0]\n",
    "w2 = clf.coef_[0,1]\n",
    "\n",
    "px = np.arange(x1min, x1max, 0.1).reshape(-1, 1)\n",
    "py = - w1/w2*px - w0/w2\n",
    "\n",
    "fig, ax = plt.subplots(figsize=(6,5))\n",
    "ax.scatter(data1[:,0], data1[:,1], color='red', label='class 1', alpha =.3)\n",
    "ax.scatter(data2[:,0], data2[:,1], color='blue', marker='^', label='class 2', alpha =.3)\n",
    "plt.plot(px, py, 'g', linewidth = 3, label = 'Logistic Regression')\n",
    "plt.title('Logistic Regression')\n",
    "plt.xlabel(r'$x_1$', fontsize = 15)\n",
    "plt.ylabel(r'$x_2$', fontsize = 15)\n",
    "plt.legend(fontsize = 12)\n",
    "plt.show()"
   ]
  }
 ],
 "metadata": {
  "kernelspec": {
   "display_name": "Python 3",
   "language": "python",
   "name": "python3"
  },
  "language_info": {
   "codemirror_mode": {
    "name": "ipython",
    "version": 3
   },
   "file_extension": ".py",
   "mimetype": "text/x-python",
   "name": "python",
   "nbconvert_exporter": "python",
   "pygments_lexer": "ipython3",
   "version": "3.8.3"
  }
 },
 "nbformat": 4,
 "nbformat_minor": 4
}
