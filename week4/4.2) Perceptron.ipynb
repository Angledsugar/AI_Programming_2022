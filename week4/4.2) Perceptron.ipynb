{
 "cells": [
  {
   "cell_type": "markdown",
   "metadata": {},
   "source": [
    "## Perceptron"
   ]
  },
  {
   "cell_type": "markdown",
   "metadata": {},
   "source": [
    "### data generation"
   ]
  },
  {
   "cell_type": "code",
   "execution_count": 1,
   "metadata": {},
   "outputs": [],
   "source": [
    "import numpy as np\n",
    "import matplotlib.pyplot as plt\n",
    "%matplotlib inline\n",
    "\n",
    "m = 100\n",
    "v0 = 8*np.random.rand(m, 1)\n",
    "v1 = 7*np.random.rand(m, 1) -4\n",
    "\n",
    "h = 0.8*v0 + v1 -3"
   ]
  },
  {
   "cell_type": "code",
   "execution_count": 2,
   "metadata": {},
   "outputs": [
    {
     "name": "stdout",
     "output_type": "stream",
     "text": [
      "[4.57302615 4.02814833 6.90981596 7.81667006 4.88718301 4.2135046\n",
      " 7.65976137 5.9084813  6.15215126 5.42402674 3.36631991 6.71192739\n",
      " 6.27218621 6.58014279 7.29483827 3.66723515 2.48251238 4.0657893\n",
      " 1.7816594  3.1124839  6.99141591 7.19008392 5.21579264 5.83898534\n",
      " 7.57819344 5.08701802 5.33654053 3.69060427 7.7121245 ]\n",
      "(29,)\n"
     ]
    }
   ],
   "source": [
    "x0 = v0[np.where(h>=1)]\n",
    "y0 = v1[np.where(h>=1)]\n",
    "\n",
    "x1 = v0[np.where(h<-1)]\n",
    "y1 = v1[np.where(h<-1)]\n",
    "\n",
    "print(x0)\n",
    "print(x0.shape)"
   ]
  },
  {
   "cell_type": "code",
   "execution_count": 3,
   "metadata": {
    "scrolled": true
   },
   "outputs": [
    {
     "data": {
      "image/png": "[encoded data removed]",
      "text/plain": [
       "<Figure size 576x504 with 1 Axes>"
      ]
     },
     "metadata": {
      "needs_background": "light"
     },
     "output_type": "display_data"
    }
   ],
   "source": [
    "plt.figure(figsize=(8, 7))\n",
    "plt.plot(x0, y0, 'ro', alpha=0.4, label = 'C1')\n",
    "plt.plot(x1, y1, 'bo', alpha=0.4, label='C0')\n",
    "plt.legend(loc = 4, fontsize = 15)\n",
    "plt.title('Classes for Perceptron', fontsize=15)\n",
    "plt.xlabel(r'$v_0$', fontsize=15)\n",
    "plt.ylabel(r'$v_1$', fontsize=15)\n",
    "plt.show()"
   ]
  },
  {
   "cell_type": "markdown",
   "metadata": {},
   "source": [
    "### Perceptron\n",
    "\n",
    "$\\sum_{i=1}^{d}w_{i}x_i > threshold$ <br>\n",
    "$\\sum_{i=1}^{d}w_{i}x_i < threshold$ <br><br>\n",
    "\n",
    "$h(x) = sign((\\sum_{i=1}^{d}w_{i}x_i) - threshold) = sign((\\sum_{i=1}^{d}w_{i}x_i) + w_0)$ <br><br>\n",
    "\n",
    "$x_0 = 1$, \n",
    "$h(x) = sign(w^Tx)$"
   ]
  },
  {
   "cell_type": "markdown",
   "metadata": {},
   "source": [
    "### meaning of w vector\n",
    "\n",
    "+ ***hyperplane*** linearly separates the data into half.\n",
    "+ ***w*** vector is orthogonal to any vecotr lying on the hyperplane<br><br>\n",
    "proof)<br>\n",
    "if $\\vec{p}$ and $\\vec{q}$ are on the hyperplane.<br>\n",
    "then, $g(\\vec{p})=g(\\vec{q})=0$ <br>\n",
    "$\\Rightarrow w_0 + w^T\\vec{p} = w_0 + w^T\\vec{q} = 0$<br>\n",
    "$\\Rightarrow w^T(\\vec{p} - \\vec{q}) = 0$ <br>\n",
    "$\\therefore w$ is orthogonal to the line.\n",
    "\n"
   ]
  },
  {
   "cell_type": "markdown",
   "metadata": {},
   "source": [
    "### perceptron algorithm\n",
    "+ as mentioned above, $h(x) = sign(w^Tx)$\n",
    "+ if $sign(w^Tx_n)\\neq y_n$, ***update $w\\leftarrow w + y_nx_n$***\n",
    "+ repeat the update until there's no misclassified $(x,y)$"
   ]
  },
  {
   "cell_type": "markdown",
   "metadata": {},
   "source": [
    "$h(x) = w^Tx = w_0 + w_1x_1 + w_2x_2$ <br><br><br>\n",
    "$\n",
    "w = \\begin{bmatrix}w_0\\\\w_1\\\\w_2 \\end{bmatrix}\n",
    "$\n",
    "\n",
    "$\n",
    "x = \n",
    "\\begin{bmatrix}\n",
    "1&x_1^{(1)} & x_2^{(1)} \\\\\n",
    "1&x_1^{(2)} & x_2^{(2)} \\\\\n",
    "1&x_1^{(3)} & x_2^{(3)} \\\\\n",
    "\\vdots & \\vdots & \\vdots\\\\\n",
    "1&x_1^{(m)} & x_2^{(m)} \\\\\n",
    "\\end{bmatrix}\n",
    "$\n",
    "\n",
    "$\n",
    "y =\n",
    "\\begin{bmatrix}\n",
    "y^{(1)}\\\\\n",
    "y^{(2)}\\\\\n",
    "y^{(3)}\\\\\n",
    "\\vdots \\\\\n",
    "y^{(m)}\\\\\n",
    "\\end{bmatrix}\n",
    "$"
   ]
  },
  {
   "cell_type": "code",
   "execution_count": null,
   "metadata": {},
   "outputs": [],
   "source": []
  }
 ],
 "metadata": {
  "kernelspec": {
   "display_name": "Python 3",
   "language": "python",
   "name": "python3"
  },
  "language_info": {
   "codemirror_mode": {
    "name": "ipython",
    "version": 3
   },
   "file_extension": ".py",
   "mimetype": "text/x-python",
   "name": "python",
   "nbconvert_exporter": "python",
   "pygments_lexer": "ipython3",
   "version": "3.8.3"
  }
 },
 "nbformat": 4,
 "nbformat_minor": 4
}
