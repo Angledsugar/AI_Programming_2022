{
 "cells": [
  {
   "cell_type": "markdown",
   "metadata": {},
   "source": [
    "## Perceptron"
   ]
  },
  {
   "cell_type": "markdown",
   "metadata": {},
   "source": [
    "### data generation"
   ]
  },
  {
   "cell_type": "code",
   "execution_count": 135,
   "metadata": {},
   "outputs": [],
   "source": [
    "import numpy as np\n",
    "import matplotlib.pyplot as plt\n",
    "%matplotlib inline\n",
    "\n",
    "m = 100\n",
    "v1 = 8*np.random.rand(m, 1)\n",
    "v2 = 7*np.random.rand(m, 1) -4\n",
    "\n",
    "h = 0.8*v1 + v2 -3"
   ]
  },
  {
   "cell_type": "code",
   "execution_count": 136,
   "metadata": {},
   "outputs": [],
   "source": [
    "C1 = np.where(h>=1)[0] # returns the index\n",
    "C0 = np.where(h<-1)[0]\n",
    "\n",
    "x1 = v1[C1]\n",
    "y1 = v2[C1]\n",
    "x2 = v1[C0]\n",
    "y2 = v2[C0]"
   ]
  },
  {
   "cell_type": "code",
   "execution_count": 137,
   "metadata": {
    "scrolled": true
   },
   "outputs": [
    {
     "data": {
      "image/png": "[encoded data removed]",
      "text/plain": [
       "<Figure size 504x360 with 1 Axes>"
      ]
     },
     "metadata": {
      "needs_background": "light"
     },
     "output_type": "display_data"
    }
   ],
   "source": [
    "plt.figure(figsize=(7, 5))\n",
    "plt.plot(x1, y1, 'ro', alpha=0.4, label = 'C1')\n",
    "plt.plot(x2, y2, 'bo', alpha=0.4, label='C0')\n",
    "plt.legend(loc = 4, fontsize = 15)\n",
    "plt.title('Classes for Perceptron', fontsize=15)\n",
    "plt.xlabel(r'$v_0$', fontsize=15)\n",
    "plt.ylabel(r'$v_1$', fontsize=15)\n",
    "plt.show()"
   ]
  },
  {
   "cell_type": "markdown",
   "metadata": {},
   "source": [
    "## Perceptron\n",
    "\n",
    "$\\sum_{i=1}^{d}w_{i}x_i > threshold$ <br>\n",
    "$\\sum_{i=1}^{d}w_{i}x_i < threshold$ <br><br>\n",
    "\n",
    "$h(x) = sign((\\sum_{i=1}^{d}w_{i}x_i) - threshold) = sign((\\sum_{i=1}^{d}w_{i}x_i) + w_0)$ <br><br>\n",
    "\n",
    "$x_0 = 1$, \n",
    "$h(x) = sign(w^Tx)$"
   ]
  },
  {
   "cell_type": "markdown",
   "metadata": {},
   "source": [
    "## meaning of w vector\n",
    "\n",
    "+ ***hyperplane*** linearly separates the data into half.\n",
    "+ ***w*** vector is orthogonal to any vecotr lying on the hyperplane<br><br>\n",
    "proof)<br>\n",
    "if $\\vec{p}$ and $\\vec{q}$ are on the hyperplane.<br>\n",
    "then, $g(\\vec{p})=g(\\vec{q})=0$ <br>\n",
    "$\\Rightarrow w_0 + w^T\\vec{p} = w_0 + w^T\\vec{q} = 0$<br>\n",
    "$\\Rightarrow w^T(\\vec{p} - \\vec{q}) = 0$ <br>\n",
    "$\\therefore w$ is orthogonal to the line.\n",
    "\n"
   ]
  },
  {
   "cell_type": "markdown",
   "metadata": {},
   "source": [
    "## perceptron algorithm\n",
    "+ as mentioned above, $h(x) = sign(w^Tx)$\n",
    "+ if $sign(w^Tx_n)\\neq y_n$, ***update $w\\leftarrow w + y_nx_n$***\n",
    "+ repeat the update until there's no misclassified $(x,y)$"
   ]
  },
  {
   "cell_type": "markdown",
   "metadata": {},
   "source": [
    "$h(x) = w^Tx = w_0 + w_1x_1 + w_2x_2$ <br><br><br>\n",
    "$\n",
    "w = \\begin{bmatrix}w_0\\\\w_1\\\\w_2 \\end{bmatrix}\n",
    "$\n",
    "\n",
    "$\n",
    "x = \n",
    "\\begin{bmatrix}\n",
    "1&x_1^{(1)} & x_2^{(1)} \\\\\n",
    "1&x_1^{(2)} & x_2^{(2)} \\\\\n",
    "1&x_1^{(3)} & x_2^{(3)} \\\\\n",
    "\\vdots & \\vdots & \\vdots\\\\\n",
    "1&x_1^{(m)} & x_2^{(m)} \\\\\n",
    "\\end{bmatrix}\n",
    "$\n",
    "\n",
    "$\n",
    "y =\n",
    "\\begin{bmatrix}\n",
    "y^{(1)}\\\\\n",
    "y^{(2)}\\\\\n",
    "y^{(3)}\\\\\n",
    "\\vdots \\\\\n",
    "y^{(m)}\\\\\n",
    "\\end{bmatrix}\n",
    "$"
   ]
  },
  {
   "cell_type": "code",
   "execution_count": 150,
   "metadata": {},
   "outputs": [
    {
     "name": "stdout",
     "output_type": "stream",
     "text": [
      "(39, 3)\n",
      "(33, 3)\n",
      "(72, 3)\n",
      "(72, 1)\n"
     ]
    }
   ],
   "source": [
    "X1 = np.hstack([np.ones([x1.shape[0], 1]), x1, y1]) #Class1 data\n",
    "X2 = np.hstack([np.ones([x2.shape[0], 1]), x2, y2]) #Class0 data\n",
    "\n",
    "X = np.vstack([X1, X2])\n",
    "y = np.vstack([np.ones([x1.shape[0], 1]), -np.ones([x2.shape[0], 1])]) # 1 for C1, -1 for C0\n",
    "w = np.ones([3, 1]) # random value for initial w\n",
    "\n",
    "print(X1.shape)\n",
    "print(X2.shape)\n",
    "print(X.shape)\n",
    "print(y.shape)"
   ]
  },
  {
   "cell_type": "code",
   "execution_count": 159,
   "metadata": {},
   "outputs": [],
   "source": [
    "X = np.asmatrix(X)\n",
    "y = np.asmatrix(y)\n",
    "w = np.asmatrix(w)"
   ]
  },
  {
   "cell_type": "markdown",
   "metadata": {},
   "source": [
    "### iteration for w"
   ]
  },
  {
   "cell_type": "code",
   "execution_count": 160,
   "metadata": {},
   "outputs": [
    {
     "data": {
      "text/plain": [
       "matrix([[-15.        ],\n",
       "        [  5.77069658],\n",
       "        [ 12.61403131]])"
      ]
     },
     "execution_count": 160,
     "metadata": {},
     "output_type": "execute_result"
    }
   ],
   "source": [
    "m = y.shape[0]\n",
    "for i in range(100):\n",
    "    for j in range(m):\n",
    "        if y[j,0] != np.sign(X[j, :]*w)[0,0]:\n",
    "            w += y[j, 0]*X[j, :].T\n",
    "            \n",
    "w"
   ]
  },
  {
   "cell_type": "markdown",
   "metadata": {},
   "source": [
    "$h(x) = w_0+w_1x_1+w_2x_2 = 0$  <br>\n",
    "$\\Rightarrow x_2 = -\\frac{w_1}{w_2}x_1 - \\frac{w_0}{w_2}$"
   ]
  },
  {
   "cell_type": "code",
   "execution_count": 161,
   "metadata": {},
   "outputs": [],
   "source": [
    "px = np.linspace(0, 8, 100).reshape(-1, 1)\n",
    "py = -w[1,0]/w[2,0]*px - w[0,0]/w[2,0]"
   ]
  },
  {
   "cell_type": "code",
   "execution_count": 162,
   "metadata": {},
   "outputs": [
    {
     "data": {
      "image/png": "[encoded data removed]",
      "text/plain": [
       "<Figure size 720x576 with 1 Axes>"
      ]
     },
     "metadata": {
      "needs_background": "light"
     },
     "output_type": "display_data"
    }
   ],
   "source": [
    "plt.figure(figsize=(10,8))\n",
    "plt.plot(x1, y1, 'ro', alpha = 0.4, label = 'C1')\n",
    "plt.plot(x2, y2, 'bo', alpha = 0.4, label = 'C0')\n",
    "plt.plot(px, py, c='k', linewidth=3, label = 'perceptron')\n",
    "\n",
    "plt.xlabel('$x_1$', fontsize = 15)\n",
    "plt.ylabel('$x_2$', fontsize = 15)\n",
    "plt.legend(loc = 1, fontsize=15)\n",
    "plt.show()"
   ]
  },
  {
   "cell_type": "code",
   "execution_count": 163,
   "metadata": {},
   "outputs": [],
   "source": [
    "loss = 0\n",
    "\n",
    "for i in range(m):\n",
    "    loss += max(0, -y[i,0]*(X[i,:]*w))"
   ]
  },
  {
   "cell_type": "code",
   "execution_count": 165,
   "metadata": {},
   "outputs": [
    {
     "data": {
      "text/plain": [
       "0"
      ]
     },
     "execution_count": 165,
     "metadata": {},
     "output_type": "execute_result"
    }
   ],
   "source": [
    "loss"
   ]
  }
 ],
 "metadata": {
  "kernelspec": {
   "display_name": "Python 3",
   "language": "python",
   "name": "python3"
  },
  "language_info": {
   "codemirror_mode": {
    "name": "ipython",
    "version": 3
   },
   "file_extension": ".py",
   "mimetype": "text/x-python",
   "name": "python",
   "nbconvert_exporter": "python",
   "pygments_lexer": "ipython3",
   "version": "3.8.3"
  }
 },
 "nbformat": 4,
 "nbformat_minor": 4
}
